{
 "cells": [
  {
   "cell_type": "markdown",
   "metadata": {},
   "source": [
    "# 1\\. Hello World!"
   ]
  },
  {
   "cell_type": "markdown",
   "metadata": {},
   "source": [
    "```\n",
    "<html>\n",
    "<head></head>\n",
    "<body><p>Hello World!</p></body>\n",
    "</html>\n",
    "```"
   ]
  },
  {
   "cell_type": "markdown",
   "metadata": {},
   "source": [
    "- The output of the above code prints:\n",
    "\n",
    "\n",
    "<html>\n",
    "<head></head>\n",
    "<body><p>Hello World!</p></body>\n",
    "</html>\n",
    "\n",
    "- From above, we can make some notes:\n",
    "    * html documents embedded between ```<html>``` and ```</html>```\n",
    "    * html codes between ```<body>``` and ```<\\body>```\n",
    "    * paragraphs between ```<p>``` and ```<\\p>```\n",
    "    * headings between ```<head>``` and ```<head>```\n",
    "        - or ```<h#>``` and ```<\\h#>``` where # = heading number"
   ]
  },
  {
   "cell_type": "markdown",
   "metadata": {},
   "source": [
    "# 2\\. Lists"
   ]
  },
  {
   "cell_type": "markdown",
   "metadata": {},
   "source": [
    "There are two types of lists: unordered and ordered.  Some basic styles are also explored."
   ]
  },
  {
   "cell_type": "markdown",
   "metadata": {},
   "source": [
    "## i\\. Unordered List"
   ]
  },
  {
   "cell_type": "markdown",
   "metadata": {},
   "source": [
    "- Unordered lists are embedded between: ```<ul>``` and ```<\\ul>```.\n",
    "- List items are embedded between: ```<li>``` and ```<\\li>```.\n",
    "- Some style choices: ```style=\"list-style-type: circle, square, none\"```.\n",
    "\n",
    "Example code:\n",
    "```\n",
    "<ul style=\"list-style-type:circle\">\n",
    "  <li>Wine</li>\n",
    "  <li>Whiskey</li>\n",
    "  <li>Whiskers</li>\n",
    "</ul>\n",
    "```\n",
    "\n",
    "The output looks like:\n",
    "<ul style=\"list-style-type:circle\">\n",
    "  <li>Wine</li>\n",
    "  <li>Whiskey</li>\n",
    "  <li>Whiskers</li>\n",
    "</ul>\n"
   ]
  },
  {
   "cell_type": "markdown",
   "metadata": {},
   "source": [
    "## ii\\. Ordered List"
   ]
  },
  {
   "cell_type": "markdown",
   "metadata": {},
   "source": [
    "- Ordered lists ( = numbered lists) embedded between ```<ol>``` and ```<\\ol>```.\n",
    "\n",
    "Example Code:\n",
    "\n",
    "```\n",
    "<ol>\n",
    "  <li>Wine</li>\n",
    "  <li>Whiskey</li>\n",
    "  <li>Whiskers</li>\n",
    "</ol>\n",
    "```\n",
    "\n",
    "Output:\n",
    "<ol>\n",
    "  <li>Wine</li>\n",
    "  <li>Whiskey</li>\n",
    "  <li>Whiskers</li>\n",
    "</ol>"
   ]
  },
  {
   "cell_type": "markdown",
   "metadata": {},
   "source": [
    "# 3\\. Tables"
   ]
  },
  {
   "cell_type": "markdown",
   "metadata": {},
   "source": [
    "<table>\n",
    "  <tr>\n",
    "    <th>Name:</th>\n",
    "    <td>Jules Verne</td>\n",
    "  </tr>\n",
    "  <tr>\n",
    "    <th rowspan=\"2\">Colors:</th>\n",
    "    <td>Cobalt blue</td>\n",
    "  </tr>\n",
    "  <tr>\n",
    "    <td>Sky blue</td>\n",
    "  </tr>\n",
    "</table>"
   ]
  },
  {
   "cell_type": "markdown",
   "metadata": {},
   "source": [
    "\n",
    "<table>\n",
    "  <tr>\n",
    "    <th>Name</th>\n",
    "    <th colspan=\"2\">Seas</th>\n",
    "  </tr>\n",
    "  <tr>\n",
    "    <td>Jules Verne</td>\n",
    "    <td>Atlantic</td>\n",
    "    <td>South Indian</td>\n",
    "  </tr>\n",
    "</table>"
   ]
  },
  {
   "cell_type": "markdown",
   "metadata": {},
   "source": [
    "<table>\n",
    "  <caption>Jules' books</caption>\n",
    "  <tr>\n",
    "    <th>Month</th>\n",
    "    <th>Book</th>\n",
    "  </tr>\n",
    "  <tr>\n",
    "    <td>January</td>\n",
    "    <td> Love in the Time of Cholera </td>\n",
    "  </tr>\n",
    "  <tr>\n",
    "    <td>February</td>\n",
    "    <td> The Trial </td>\n",
    "  </tr>\n",
    "</table>"
   ]
  },
  {
   "cell_type": "markdown",
   "metadata": {},
   "source": [
    "# 4\\. Table of basic HTML commands"
   ]
  },
  {
   "cell_type": "code",
   "execution_count": null,
   "metadata": {
    "collapsed": true
   },
   "outputs": [],
   "source": []
  }
 ],
 "metadata": {
  "kernelspec": {
   "display_name": "Python 2",
   "language": "python",
   "name": "python2"
  },
  "language_info": {
   "codemirror_mode": {
    "name": "ipython",
    "version": 2
   },
   "file_extension": ".py",
   "mimetype": "text/x-python",
   "name": "python",
   "nbconvert_exporter": "python",
   "pygments_lexer": "ipython2",
   "version": "2.7.13"
  }
 },
 "nbformat": 4,
 "nbformat_minor": 2
}
